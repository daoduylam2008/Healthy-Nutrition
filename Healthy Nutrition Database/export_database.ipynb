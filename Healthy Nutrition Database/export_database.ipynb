{
 "cells": [
  {
   "cell_type": "code",
   "execution_count": 1,
   "id": "48b70d86",
   "metadata": {},
   "outputs": [],
   "source": [
    "import json\n",
    "import statistics"
   ]
  },
  {
   "cell_type": "code",
   "execution_count": 2,
   "id": "dc1ea3cd",
   "metadata": {},
   "outputs": [],
   "source": [
    "categories = []"
   ]
  },
  {
   "cell_type": "code",
   "execution_count": 3,
   "id": "91bf2ccf",
   "metadata": {},
   "outputs": [],
   "source": [
    "with open(\"dataset.json\", 'r') as file:\n",
    "    data = json.load(file)"
   ]
  },
  {
   "cell_type": "code",
   "execution_count": 4,
   "id": "052ff05c",
   "metadata": {},
   "outputs": [],
   "source": [
    "def query(description, name):\n",
    "    for d in data:\n",
    "        if d[\"description\"] == description:\n",
    "            d[\"name\"] = name\n",
    "            return d\n",
    "    \n",
    "    return None"
   ]
  },
  {
   "cell_type": "code",
   "execution_count": 5,
   "id": "24fa6dfd",
   "metadata": {},
   "outputs": [],
   "source": [
    "def export_data(data):\n",
    "    with open(\"database.json\", 'r') as file:\n",
    "        database = json.load(file)\n",
    "    \n",
    "    database.append(data)\n",
    "\n",
    "    with open(\"database.json\", 'w') as file:\n",
    "        json.dump(database, file)"
   ]
  },
  {
   "cell_type": "code",
   "execution_count": 6,
   "id": "19956156",
   "metadata": {},
   "outputs": [
    {
     "name": "stdout",
     "output_type": "stream",
     "text": [
      "{'description': 'Potato, french fries, from fresh, fried', 'category': 'French fries and other fried white potatoes', 'portion': {'1 fry, NS as to shape': 5.0, '1 shoestring': 2.0, '1 straight cut': 5.0, '1 spiral or curly': 8.0, '1 waffle': 8.0, '1 wedge': 9.0, '1 crinkle cut': 5.0, '1 small, raw, yields': 50.0, '1 medium, raw, yields': 70.0, '1 large, raw, yields': 100.0, '1 cup': 60.0, '1 oz, raw, yields': 15.0, 'Quantity not specified': 110.0}, 'nutrient_per_100g': {'Vitamin E, added': [0.0, 'MG'], 'Folic acid': [0.0, 'UG'], 'PUFA 18:2': [4.452, 'G'], 'PUFA 18:3': [0.578, 'G'], 'Carotene, alpha': [0.0, 'UG'], 'Vitamin B-6': [0.265, 'MG'], 'Folate, food': [16.0, 'UG'], 'SFA 6:0': [0.0, 'G'], 'Lutein + zeaxanthin': [13.0, 'UG'], 'MUFA 20:1': [0.088, 'G'], 'MUFA 22:1': [0.0, 'G'], 'SFA 4:0': [0.0, 'G'], 'SFA 18:0': [0.378, 'G'], 'Calcium, Ca': [9.0, 'MG'], 'Iron, Fe': [0.64, 'MG'], 'Choline, total': [12.7, 'MG'], 'SFA 10:0': [0.001, 'G'], 'Vitamin E (alpha-tocopherol)': [2.5, 'MG'], 'Theobromine': [0.0, 'MG'], 'Vitamin C, total ascorbic acid': [9.7, 'MG'], 'Fiber, total dietary': [1.6, 'G'], 'Riboflavin': [0.03, 'MG'], 'Carotene, beta': [3.0, 'UG'], 'SFA 8:0': [0.0, 'G'], 'SFA 14:0': [0.007, 'G'], 'Carbohydrate, by difference': [18.5, 'G'], 'Vitamin D (D2 + D3)': [0.0, 'UG'], 'Folate, total': [16.0, 'UG'], 'Sodium, Na': [141.0, 'MG'], 'PUFA 18:4': [0.0, 'G'], 'SFA 16:0': [1.264, 'G'], 'Total lipid (fat)': [13.1, 'G'], 'Niacin': [1.215, 'MG'], 'Vitamin A, RAE': [0.0, 'UG'], 'Cryptoxanthin, beta': [0.0, 'UG'], 'PUFA 22:6 n-3 (DHA)': [0.0, 'G'], 'Alcohol, ethyl': [0.0, 'G'], 'Copper, Cu': [0.144, 'MG'], 'SFA 12:0': [0.003, 'G'], 'Energy': [198.0, 'KCAL'], 'Vitamin K (phylloquinone)': [14.1, 'UG'], 'Retinol': [0.0, 'UG'], 'Fatty acids, total saturated': [1.763, 'G'], 'Thiamin': [0.073, 'MG'], 'Vitamin B-12, added': [0.0, 'UG'], 'PUFA 22:5 n-3 (DPA)': [0.0, 'G'], 'PUFA 20:5 n-3 (EPA)': [0.0, 'G'], 'Zinc, Zn': [0.28, 'MG'], 'Water': [65.13, 'G'], 'Protein': [1.93, 'G'], 'Magnesium, Mg': [23.0, 'MG'], 'Fatty acids, total polyunsaturated': [5.036, 'G'], 'Fatty acids, total monounsaturated': [5.511, 'G'], 'MUFA 16:1': [0.046, 'G'], 'Cholesterol': [0.0, 'MG'], 'Caffeine': [0.0, 'MG'], 'Phosphorus, P': [52.0, 'MG'], 'Lycopene': [0.0, 'UG'], 'Vitamin B-12': [0.0, 'UG'], 'Total Sugars': [1.25, 'G'], 'Folate, DFE': [16.0, 'UG'], 'Potassium, K': [401.0, 'MG'], 'PUFA 20:4': [0.0, 'G'], 'Selenium, Se': [0.3, 'UG'], 'MUFA 18:1': [5.368, 'G']}, 'name': 'French Fries'}\n"
     ]
    }
   ],
   "source": [
    "data = query(\"Potato, french fries, from fresh, fried\", \"French Fries\")\n",
    "print(data)"
   ]
  }
 ],
 "metadata": {
  "kernelspec": {
   "display_name": "Python 3",
   "language": "python",
   "name": "python3"
  },
  "language_info": {
   "codemirror_mode": {
    "name": "ipython",
    "version": 3
   },
   "file_extension": ".py",
   "mimetype": "text/x-python",
   "name": "python",
   "nbconvert_exporter": "python",
   "pygments_lexer": "ipython3",
   "version": "3.12.9"
  }
 },
 "nbformat": 4,
 "nbformat_minor": 5
}
