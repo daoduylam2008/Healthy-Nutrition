{
 "cells": [
  {
   "cell_type": "code",
   "execution_count": null,
   "id": "1b84dfec",
   "metadata": {},
   "outputs": [],
   "source": [
    "import pandas, json\n",
    "from tqdm import tqdm"
   ]
  },
  {
   "cell_type": "markdown",
   "id": "5288800a",
   "metadata": {},
   "source": [
    "### Convert data crawled from the below website to JSON\n",
    "Download dataset [here](https://fdc.nal.usda.gov/fdc-datasets/FoodData_Central_survey_food_csv_2024-10-31.zip)"
   ]
  },
  {
   "cell_type": "code",
   "execution_count": 2,
   "id": "6b023241",
   "metadata": {},
   "outputs": [],
   "source": [
    "df = pandas.read_csv('./dataset/food.csv')\n",
    "df1 = pandas.read_csv('./dataset/food_nutrient.csv')\n",
    "df2 = pandas.read_csv('./dataset/food_portion.csv')\n",
    "df3 = pandas.read_csv('./dataset/nutrient.csv')\n",
    "df4 = pandas.read_csv('./dataset/wweia_food_category.csv')"
   ]
  },
  {
   "cell_type": "code",
   "execution_count": 4,
   "id": "8a678cc8",
   "metadata": {},
   "outputs": [],
   "source": [
    "data = []\n",
    "for row in df.itertuples():\n",
    "    obj = {}\n",
    "    obj['description'] = row.description\n",
    "    obj['category'] = df4[df4['wweia_food_category'] == row.food_category_id]['wweia_food_category_description'].item()\n",
    "\n",
    "    tmp = df2[df2['fdc_id'] == row.fdc_id].sort_values(by='seq_num')\n",
    "    obj['portion'] = dict(zip(tmp['portion_description'], tmp['gram_weight']))\n",
    "\n",
    "    tmp = df1[df1['fdc_id'] == row.fdc_id]\n",
    "    obj['nutrient_per_100g'] = {}\n",
    "    for nutrient in tmp.itertuples():\n",
    "        tmp2 = df3[df3['nutrient_nbr'] == float(str(nutrient.nutrient_id) + '.0')]\n",
    "        obj['nutrient_per_100g'][tmp2['name'].item()] = [nutrient.amount, tmp2['unit_name'].item()]\n",
    "\n",
    "    data.append(obj)\n"
   ]
  },
  {
   "cell_type": "code",
   "execution_count": 5,
   "id": "7323bdec",
   "metadata": {},
   "outputs": [
    {
     "data": {
      "text/plain": [
       "{'description': 'Industrial oil as ingredient in food',\n",
       " 'category': 'Not included in a food category',\n",
       " 'portion': {},\n",
       " 'nutrient_per_100g': {'MUFA 18:1': [30.664, 'G'],\n",
       "  'PUFA 22:6 n-3 (DHA)': [0.0, 'G'],\n",
       "  'PUFA 18:3': [1.698, 'G'],\n",
       "  'SFA 16:0': [8.407, 'G'],\n",
       "  'Fatty acids, total polyunsaturated': [31.812, 'G'],\n",
       "  'MUFA 16:1': [0.072, 'G'],\n",
       "  'PUFA 20:4': [0.0, 'G'],\n",
       "  'MUFA 20:1': [0.322, 'G'],\n",
       "  'MUFA 22:1': [0.024, 'G'],\n",
       "  'SFA 18:0': [23.263, 'G'],\n",
       "  'PUFA 20:5 n-3 (EPA)': [0.0, 'G'],\n",
       "  'PUFA 18:4': [0.0, 'G'],\n",
       "  'Fatty acids, total monounsaturated': [31.097, 'G'],\n",
       "  'PUFA 22:5 n-3 (DPA)': [0.0, 'G'],\n",
       "  'PUFA 18:2': [30.114, 'G'],\n",
       "  'Iron, Fe': [0.04, 'MG'],\n",
       "  'Vitamin B-12, added': [0.0, 'UG'],\n",
       "  'Alcohol, ethyl': [0.0, 'G'],\n",
       "  'SFA 10:0': [0.0, 'G'],\n",
       "  'Sodium, Na': [0.0, 'MG'],\n",
       "  'Vitamin A, RAE': [0.0, 'UG'],\n",
       "  'Folate, food': [0.0, 'UG'],\n",
       "  'Phosphorus, P': [0.0, 'MG'],\n",
       "  'Vitamin D (D2 + D3)': [0.0, 'UG'],\n",
       "  'Fatty acids, total saturated': [32.672, 'G'],\n",
       "  'SFA 4:0': [0.0, 'G'],\n",
       "  'SFA 8:0': [0.0, 'G'],\n",
       "  'Lutein + zeaxanthin': [0.0, 'UG'],\n",
       "  'Copper, Cu': [0.0, 'MG'],\n",
       "  'Folate, DFE': [0.0, 'UG'],\n",
       "  'Niacin': [0.0, 'MG'],\n",
       "  'Folic acid': [0.0, 'UG'],\n",
       "  'Vitamin E (alpha-tocopherol)': [10.5, 'MG'],\n",
       "  'Carbohydrate, by difference': [0.0, 'G'],\n",
       "  'Cryptoxanthin, beta': [0.0, 'UG'],\n",
       "  'Vitamin C, total ascorbic acid': [0.0, 'MG'],\n",
       "  'Water': [0.0, 'G'],\n",
       "  'Choline, total': [0.2, 'MG'],\n",
       "  'Fiber, total dietary': [0.0, 'G'],\n",
       "  'Riboflavin': [0.0, 'MG'],\n",
       "  'Selenium, Se': [0.0, 'UG'],\n",
       "  'Theobromine': [0.0, 'MG'],\n",
       "  'Carotene, alpha': [0.0, 'UG'],\n",
       "  'Total Sugars': [0.0, 'G'],\n",
       "  'Retinol': [0.0, 'UG'],\n",
       "  'Total lipid (fat)': [100.0, 'G'],\n",
       "  'Calcium, Ca': [0.0, 'MG'],\n",
       "  'Folate, total': [0.0, 'UG'],\n",
       "  'Thiamin': [0.0, 'MG'],\n",
       "  'Vitamin B-6': [0.0, 'MG'],\n",
       "  'Protein': [0.0, 'G'],\n",
       "  'SFA 6:0': [0.0, 'G'],\n",
       "  'Carotene, beta': [0.0, 'UG'],\n",
       "  'Vitamin E, added': [0.0, 'MG'],\n",
       "  'Vitamin K (phylloquinone)': [155.8, 'UG'],\n",
       "  'Caffeine': [0.0, 'MG'],\n",
       "  'SFA 12:0': [0.0, 'G'],\n",
       "  'Potassium, K': [0.0, 'MG'],\n",
       "  'SFA 14:0': [0.048, 'G'],\n",
       "  'Zinc, Zn': [0.01, 'MG'],\n",
       "  'Energy': [892.0, 'KCAL'],\n",
       "  'Cholesterol': [0.0, 'MG'],\n",
       "  'Lycopene': [0.0, 'UG'],\n",
       "  'Magnesium, Mg': [0.0, 'MG'],\n",
       "  'Vitamin B-12': [0.0, 'UG']}}"
      ]
     },
     "execution_count": 5,
     "metadata": {},
     "output_type": "execute_result"
    }
   ],
   "source": [
    "obj"
   ]
  },
  {
   "cell_type": "code",
   "execution_count": 6,
   "id": "46c0afc1",
   "metadata": {},
   "outputs": [],
   "source": [
    "with open('dataset.json', 'w') as f:\n",
    "    json.dump(data, f)"
   ]
  }
 ],
 "metadata": {
  "kernelspec": {
   "display_name": "Python 3",
   "language": "python",
   "name": "python3"
  },
  "language_info": {
   "codemirror_mode": {
    "name": "ipython",
    "version": 3
   },
   "file_extension": ".py",
   "mimetype": "text/x-python",
   "name": "python",
   "nbconvert_exporter": "python",
   "pygments_lexer": "ipython3",
   "version": "3.13.2"
  }
 },
 "nbformat": 4,
 "nbformat_minor": 5
}
