{
 "cells": [
  {
   "cell_type": "code",
   "execution_count": null,
   "id": "1b84dfec",
   "metadata": {},
   "outputs": [],
   "source": [
    "import pandas, json"
   ]
  },
  {
   "cell_type": "markdown",
   "id": "5288800a",
   "metadata": {},
   "source": [
    "### Convert data crawled from the below website to JSON\n",
    "Download dataset [here](https://fdc.nal.usda.gov/fdc-datasets/FoodData_Central_survey_food_csv_2024-10-31.zip)"
   ]
  },
  {
   "cell_type": "code",
   "execution_count": null,
   "id": "6b023241",
   "metadata": {},
   "outputs": [],
   "source": [
    "df = pandas.read_csv('./dataset/food.csv')\n",
    "df1 = pandas.read_csv('./dataset/food_nutrient.csv')\n",
    "df2 = pandas.read_csv('./dataset/food_portion.csv')\n",
    "df3 = pandas.read_csv('./dataset/nutrient.csv')\n",
    "df4 = pandas.read_csv('./dataset/wweia_food_category.csv')"
   ]
  },
  {
   "cell_type": "code",
   "execution_count": null,
   "id": "8a678cc8",
   "metadata": {},
   "outputs": [],
   "source": [
    "data = []\n",
    "for row in df.itertuples():\n",
    "    obj = {}\n",
    "    obj['description'] = row.description\n",
    "    obj['category'] = df4[df4['wweia_food_category'] == row.food_category_id]['wweia_food_category_description'].item()\n",
    "\n",
    "    tmp = df2[df2['fdc_id'] == row.fdc_id].sort_values(by='seq_num')\n",
    "    obj['portion'] = dict(zip(tmp['portion_description'], tmp['gram_weight']))\n",
    "\n",
    "    tmp = df1[df1['fdc_id'] == row.fdc_id]\n",
    "    obj['nutrient_per_100g'] = {}\n",
    "    for nutrient in tmp.itertuples():\n",
    "        tmp2 = df3[df3['nutrient_nbr'] == float(str(nutrient.nutrient_id) + '.0')]\n",
    "        obj['nutrient_per_100g'][tmp2['name'].item()] = [nutrient.amount, tmp2['unit_name'].item()]\n",
    "\n",
    "    data.append(obj)\n"
   ]
  },
  {
   "cell_type": "code",
   "execution_count": null,
   "id": "7323bdec",
   "metadata": {},
   "outputs": [
    {
     "data": {
      "text/plain": [
       "{'description': 'Milk, NFS',\n",
       " 'category': 'Milk, reduced fat',\n",
       " 'portion': {'1 cup': 244.0,\n",
       "  '1 fl oz': 30.5,\n",
       "  '1 individual school container': 244.0,\n",
       "  'Guideline amount per fl oz of beverage': 2.5,\n",
       "  'Guideline amount per cup of hot cereal': 61.0,\n",
       "  'Quantity not specified': 244.0},\n",
       " 'nutrient_per_100g': {'Calcium, Ca': [125.0, 'MG'],\n",
       "  'Retinol': [57.0, 'UG'],\n",
       "  'Lycopene': [0.0, 'UG'],\n",
       "  'MUFA 20:1': [0.002, 'G'],\n",
       "  'PUFA 20:5 n-3 (EPA)': [0.0, 'G'],\n",
       "  'SFA 14:0': [0.204, 'G'],\n",
       "  'Total Sugars': [4.88, 'G'],\n",
       "  'Carotene, beta': [4.0, 'UG'],\n",
       "  'Total lipid (fat)': [2.14, 'G'],\n",
       "  'Thiamin': [0.057, 'MG'],\n",
       "  'Vitamin B-12, added': [0.0, 'UG'],\n",
       "  'PUFA 18:3': [0.008, 'G'],\n",
       "  'PUFA 18:2': [0.074, 'G'],\n",
       "  'Phosphorus, P': [103.0, 'MG'],\n",
       "  'Energy': [52.0, 'KCAL'],\n",
       "  'Folic acid': [0.0, 'UG'],\n",
       "  'Vitamin E (alpha-tocopherol)': [0.03, 'MG'],\n",
       "  'Vitamin B-6': [0.061, 'MG'],\n",
       "  'Niacin': [0.11, 'MG'],\n",
       "  'Folate, DFE': [1.0, 'UG'],\n",
       "  'Cryptoxanthin, beta': [0.0, 'UG'],\n",
       "  'Fatty acids, total saturated': [1.249, 'G'],\n",
       "  'SFA 8:0': [0.023, 'G'],\n",
       "  'Zinc, Zn': [0.43, 'MG'],\n",
       "  'Magnesium, Mg': [12.0, 'MG'],\n",
       "  'Folate, food': [1.0, 'UG'],\n",
       "  'SFA 12:0': [0.065, 'G'],\n",
       "  'SFA 16:0': [0.576, 'G'],\n",
       "  'Alcohol, ethyl': [0.0, 'G'],\n",
       "  'Fatty acids, total monounsaturated': [0.458, 'G'],\n",
       "  'Copper, Cu': [0.001, 'MG'],\n",
       "  'PUFA 20:4': [0.003, 'G'],\n",
       "  'Choline, total': [17.9, 'MG'],\n",
       "  'Carbohydrate, by difference': [4.83, 'G'],\n",
       "  'Riboflavin': [0.137, 'MG'],\n",
       "  'Carotene, alpha': [0.0, 'UG'],\n",
       "  'Vitamin K (phylloquinone)': [0.2, 'UG'],\n",
       "  'Cholesterol': [9.0, 'MG'],\n",
       "  'Vitamin B-12': [0.56, 'UG'],\n",
       "  'Caffeine': [0.0, 'MG'],\n",
       "  'SFA 6:0': [0.036, 'G'],\n",
       "  'PUFA 22:6 n-3 (DHA)': [0.0, 'G'],\n",
       "  'Protein': [3.33, 'G'],\n",
       "  'PUFA 18:4': [0.0, 'G'],\n",
       "  'Fiber, total dietary': [0.0, 'G'],\n",
       "  'MUFA 16:1': [0.032, 'G'],\n",
       "  'Fatty acids, total polyunsaturated': [0.07, 'G'],\n",
       "  'PUFA 22:5 n-3 (DPA)': [0.001, 'G'],\n",
       "  'Lutein + zeaxanthin': [0.0, 'UG'],\n",
       "  'Vitamin D (D2 + D3)': [1.1, 'UG'],\n",
       "  'Potassium, K': [156.0, 'MG'],\n",
       "  'Iron, Fe': [0.0, 'MG'],\n",
       "  'SFA 10:0': [0.056, 'G'],\n",
       "  'Water': [88.92, 'G'],\n",
       "  'MUFA 22:1': [0.0, 'G'],\n",
       "  'Selenium, Se': [1.9, 'UG'],\n",
       "  'Vitamin A, RAE': [58.0, 'UG'],\n",
       "  'Vitamin E, added': [0.0, 'MG'],\n",
       "  'Folate, total': [1.0, 'UG'],\n",
       "  'Sodium, Na': [39.0, 'MG'],\n",
       "  'Vitamin C, total ascorbic acid': [0.1, 'MG'],\n",
       "  'Theobromine': [0.0, 'MG'],\n",
       "  'SFA 18:0': [0.208, 'G'],\n",
       "  'MUFA 18:1': [0.465, 'G'],\n",
       "  'SFA 4:0': [0.046, 'G']}}"
      ]
     },
     "execution_count": 90,
     "metadata": {},
     "output_type": "execute_result"
    }
   ],
   "source": [
    "obj"
   ]
  },
  {
   "cell_type": "code",
   "execution_count": null,
   "id": "46c0afc1",
   "metadata": {},
   "outputs": [],
   "source": [
    "with open('dataset.json', 'w') as f:\n",
    "    json.dump(data, f)"
   ]
  }
 ],
 "metadata": {
  "kernelspec": {
   "display_name": ".venv",
   "language": "python",
   "name": "python3"
  },
  "language_info": {
   "codemirror_mode": {
    "name": "ipython",
    "version": 3
   },
   "file_extension": ".py",
   "mimetype": "text/x-python",
   "name": "python",
   "nbconvert_exporter": "python",
   "pygments_lexer": "ipython3",
   "version": "3.13.3"
  }
 },
 "nbformat": 4,
 "nbformat_minor": 5
}
